{
 "cells": [
  {
   "cell_type": "code",
   "execution_count": 1,
   "metadata": {
    "collapsed": true
   },
   "outputs": [],
   "source": [
    "%matplotlib inline\n",
    "import os\n",
    "import shutil\n",
    "import numpy as np\n",
    "import matplotlib.pyplot as plt\n",
    "import h5py\n",
    "import time\n",
    "from mpi4py import MPI\n",
    "import IPython\n",
    "\n",
    "from dedalus import public as de\n",
    "from dedalus.extras import flow_tools\n",
    "import logging\n",
    "logger = logging.getLogger(__name__)"
   ]
  },
  {
   "cell_type": "code",
   "execution_count": 4,
   "metadata": {
    "collapsed": true
   },
   "outputs": [],
   "source": [
    "Ly, Lz = (1., 2.)\n",
    "ny, nz = (256, 128)\n",
    "\n",
    "y_basis = de.Chebyshev(\"y\", ny, interval=(0, Ly), dealias=3/2)\n",
    "z_basis = de.Fourier(\"z\", nz, interval=(0, Lz), dealias=3/2)\n",
    "\n",
    "domain = de.Domain([z_basis, y_basis], grid_dtype=np.float64) #mesh=[2,2])\n",
    "\n",
    "Reynolds = 60."
   ]
  },
  {
   "cell_type": "code",
   "execution_count": 5,
   "metadata": {},
   "outputs": [],
   "source": [
    "problem = de.IVP(domain,\n",
    "                variables=[\n",
    "                    \"ubar\",\n",
    "                    \"uprime\"\n",
    "                    \"vbar\",\n",
    "                    \"vprime\",\n",
    "                    \"wbar\",\n",
    "                    \"wprime\",\n",
    "                    \"psi\",\n",
    "                    \"omega\",\n",
    "                    \"pprime\"\n",
    "                ])\n",
    "\n",
    "problem.parameters[\"InvReynolds\"] = 1.0/Reynolds\n",
    "problem.parameters[\"PG\"] = -1.0\n",
    "problem.parameters[\"alpha\"] = 1.0"
   ]
  },
  {
   "cell_type": "code",
   "execution_count": null,
   "metadata": {
    "collapsed": true
   },
   "outputs": [],
   "source": [
    "problem.add_equation(\"dt(ubar)\")"
   ]
  }
 ],
 "metadata": {
  "kernelspec": {
   "display_name": "dedalus",
   "language": "python",
   "name": "dedalus"
  },
  "language_info": {
   "codemirror_mode": {
    "name": "ipython",
    "version": 3
   },
   "file_extension": ".py",
   "mimetype": "text/x-python",
   "name": "python",
   "nbconvert_exporter": "python",
   "pygments_lexer": "ipython3",
   "version": "3.6.3"
  }
 },
 "nbformat": 4,
 "nbformat_minor": 2
}
